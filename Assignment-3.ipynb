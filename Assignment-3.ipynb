{
 "cells": [
  {
   "cell_type": "markdown",
   "metadata": {},
   "source": [
    "# Assignment 3"
   ]
  },
  {
   "cell_type": "markdown",
   "metadata": {},
   "source": [
    "# Task 1\n",
    "### problem 1\n",
    "#### write a function to compute 5/0 and use try/except to catch the exeception"
   ]
  },
  {
   "cell_type": "code",
   "execution_count": 3,
   "metadata": {},
   "outputs": [
    {
     "name": "stdout",
     "output_type": "stream",
     "text": [
      "try to enter a no that you want to devide to five: sachin\n",
      "Plaese enter only a integer greater than zero\n",
      "try to enter a no that you want to devide to five: 0\n",
      "Plaese enter only a integer greater than zero\n",
      "try to enter a no that you want to devide to five: fjdkf\n",
      "Plaese enter only a integer greater than zero\n",
      "try to enter a no that you want to devide to five: 89\n"
     ]
    },
    {
     "data": {
      "text/plain": [
       "0.056179775280898875"
      ]
     },
     "execution_count": 3,
     "metadata": {},
     "output_type": "execute_result"
    }
   ],
   "source": [
    "def devideToFive():\n",
    "    while True:\n",
    "        try:\n",
    "            no = int(input(\"try to enter a no that you want to devide to five: \"))\n",
    "            if no == 0:\n",
    "                raise ValueError(\"dont enter a zero\")\n",
    "        except:\n",
    "            print(\"Plaese enter only a integer greater than zero\")\n",
    "            continue\n",
    "        else:\n",
    "            break\n",
    "    devide = 5 / no\n",
    "    return devide\n",
    "devideToFive()\n",
    "    "
   ]
  },
  {
   "cell_type": "markdown",
   "metadata": {},
   "source": [
    "### porblem 2\n",
    "#### Implement a python program that genrate all the possible sentences where subjects is in [\"Americans\" , \"Indians\"] and verbs is in [\"Play\" , \"watch\"] and the objects is in [\"basketballs' ,'cricket\"]"
   ]
  },
  {
   "cell_type": "code",
   "execution_count": 9,
   "metadata": {},
   "outputs": [
    {
     "name": "stdout",
     "output_type": "stream",
     "text": [
      "Americans Play basketball.\n",
      "Americans Play Cricket.\n",
      "Americans Watch basketball.\n",
      "Americans Watch Cricket.\n",
      "Indians Play basketball.\n",
      "Indians Play Cricket.\n",
      "Indians Watch basketball.\n",
      "Indians Watch Cricket.\n"
     ]
    }
   ],
   "source": [
    "subjects = ['Americans', 'Indians']\n",
    "verbss = [\"Play\", 'Watch']\n",
    "objects = [\"basketball\",\"Cricket\"]\n",
    "for i in subjects:\n",
    "    for j in verbss:\n",
    "        for k in objects:\n",
    "            print(i+ \" \" + j + \" \"+ k+ \".\")"
   ]
  },
  {
   "cell_type": "markdown",
   "metadata": {},
   "source": [
    "# Task 2\n",
    "Write a function so that the columns of the output matrix are powers of the input vector.\n",
    "The order of the powers is determined by the increasing boolean argument. Specifically, when\n",
    "increasing is False, the i-th output column is the input vector raised element-wise to the power\n",
    "of N - i - 1.\n",
    "\n",
    "HINT: Such a matrix with a geometric progression in each row is named for AlexandreTheophile Vandermonde.\n"
   ]
  },
  {
   "cell_type": "code",
   "execution_count": 7,
   "metadata": {},
   "outputs": [
    {
     "data": {
      "text/plain": [
       "array([[    1,     1,     1,     1,     1,     1,     1,     1],\n",
       "       [  128,    64,    32,    16,     8,     4,     2,     1],\n",
       "       [ 2187,   729,   243,    81,    27,     9,     3,     1],\n",
       "       [16384,  4096,  1024,   256,    64,    16,     4,     1],\n",
       "       [78125, 15625,  3125,   625,   125,    25,     5,     1]])"
      ]
     },
     "execution_count": 7,
     "metadata": {},
     "output_type": "execute_result"
    }
   ],
   "source": [
    "#column of the output matrix are power of the input vector\n",
    "import numpy as np\n",
    "x = np.array([1,2,3,4,5])\n",
    "N = 8\n",
    "np.vander(x,N)"
   ]
  },
  {
   "cell_type": "code",
   "execution_count": null,
   "metadata": {},
   "outputs": [],
   "source": []
  }
 ],
 "metadata": {
  "kernelspec": {
   "display_name": "Python 3",
   "language": "python",
   "name": "python3"
  },
  "language_info": {
   "codemirror_mode": {
    "name": "ipython",
    "version": 3
   },
   "file_extension": ".py",
   "mimetype": "text/x-python",
   "name": "python",
   "nbconvert_exporter": "python",
   "pygments_lexer": "ipython3",
   "version": "3.7.4"
  }
 },
 "nbformat": 4,
 "nbformat_minor": 2
}
