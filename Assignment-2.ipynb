{
 "cells": [
  {
   "cell_type": "markdown",
   "metadata": {},
   "source": [
    "# Assignment 2"
   ]
  },
  {
   "cell_type": "markdown",
   "metadata": {},
   "source": [
    "# Task 1:\n"
   ]
  },
  {
   "cell_type": "markdown",
   "metadata": {},
   "source": [
    "### problem 1.1:\n"
   ]
  },
  {
   "cell_type": "markdown",
   "metadata": {},
   "source": [
    "#### write a python program to implement your own myreduce() function which works exactly like python's built-in-function reduce() "
   ]
  },
  {
   "cell_type": "code",
   "execution_count": 3,
   "metadata": {},
   "outputs": [
    {
     "name": "stdout",
     "output_type": "stream",
     "text": [
      "Sum of all element in list a : 15\n",
      "Product of all elements in list a : 120\n"
     ]
    }
   ],
   "source": [
    "#function defination of myreduce()\n",
    "def myreduce(fun, alist):\n",
    "    x = alist[0]\n",
    "    \n",
    "    for i in range(1, len(alist)):\n",
    "        x = fun(x, alist[i])\n",
    "    \n",
    "    return x\n",
    "# a sum function to call in argument of  myreduce()\n",
    "def summ(x1, x2):\n",
    "    return x1 + x2\n",
    "# a product function to call in argument of myreduce()\n",
    "def Product(x1, x2):\n",
    "    return(x1 * x2)\n",
    "\n",
    "a = [1, 2, 3, 4, 5]\n",
    "\n",
    "print(\"Sum of all element in list a :\", myreduce(summ, a))\n",
    "print(\"Product of all elements in list a :\", myreduce(Product, a))"
   ]
  },
  {
   "cell_type": "markdown",
   "metadata": {},
   "source": [
    "####  1.2 Write a Python program to implement your own myfilter() function which works exactly like python's built-in function filter()\n"
   ]
  },
  {
   "cell_type": "code",
   "execution_count": 10,
   "metadata": {},
   "outputs": [
    {
     "data": {
      "text/plain": [
       "[5, 10, 15, 35, 120]"
      ]
     },
     "execution_count": 10,
     "metadata": {},
     "output_type": "execute_result"
    }
   ],
   "source": [
    "def myfilter(fun , alist):\n",
    "    a = []\n",
    "    b = []\n",
    "    for i in alist:\n",
    "        a.append(fun(i))\n",
    "    for i in range(0 , len(a)):\n",
    "        if ( a[i] == False):\n",
    "            continue\n",
    "        else :\n",
    "            b.append(a[i])\n",
    "    return b\n",
    "    \n",
    "def multiple_of_five(i):\n",
    "    if i % 5 == 0:\n",
    "        return i \n",
    "    else: \n",
    "        return False\n",
    "myfilter(multiple_of_five , [2, 5, 6, 4, 10, 15, 12, 35, 124, 120])\n"
   ]
  },
  {
   "cell_type": "markdown",
   "metadata": {},
   "source": [
    "### problem 2\n",
    "#### implement list comprehension to produce the following lists.\n",
    "#### wriite list comprehension to produce the following lists.\n",
    "### ['A', 'C','A','D','G','I','L',D']\n",
    "#### ['x', 'xx', 'xxx', 'xxxx', 'y', 'yy', 'yyy', 'yyyy', 'z', 'zz', 'zzz', 'zzzz' ]\n",
    "#### ['x' , 'y', 'z' , 'xx' , 'yy' , 'zz', 'xxx', 'yyy' , 'zzz', ' xxxx', 'yyyy', 'zzzz']\n",
    "#### [[2], [3], [4], [3], [4], [5],[4],[5],[6]]\n",
    "#### [[2,3,4,5],[3,4,5,6],[4,5,6,7],[5,6,7,8]]\n",
    "#### [(1,1),(2,1),(3,1),(1,2),(2,2),(3,2),(1,3),(2,3),(3,3)]\n",
    "\n"
   ]
  },
  {
   "cell_type": "code",
   "execution_count": 31,
   "metadata": {},
   "outputs": [
    {
     "name": "stdout",
     "output_type": "stream",
     "text": [
      "['A', 'C', 'A', 'D', 'G', 'I', 'L', 'D']\n",
      "['x', 'xx', 'xxx', 'xxxx', 'y', 'yy', 'yyy', 'yyyy', 'z', 'zz', 'zzz', 'zzzz']\n",
      "['x', 'y', 'z', 'xx', 'yy', 'zz', 'xxx', 'yyy', 'zzz', 'xxxx', 'yyyy', 'zzzz']\n",
      "[[2], [3], [4], [3], [4], [5], [4], [5], [6]]\n",
      "[[2, 3, 4, 5], [3, 4, 5, 6], [4, 5, 6, 7], [5, 6, 7, 8]]\n",
      "[(1, 1), (2, 1), (3, 1), (1, 2), (2, 2), (3, 2), (1, 3), (2, 3), (3, 3)]\n"
     ]
    }
   ],
   "source": [
    "#1. solution\n",
    "list1 = [i for i in 'ACADGILD']\n",
    "print(list1)\n",
    "\n",
    "#2 . solution\n",
    "list2= [i*j for i in \"xyz\" for j in [1 , 2, 3, 4]]\n",
    "print(list2)\n",
    "\n",
    "#3 . solution\n",
    "list3 = [i*j for j in range(1,5) for i in \"xyz\"]\n",
    "print(list3)\n",
    "\n",
    "#4 .solution\n",
    "list4 = [[i + j] for i in range(1,4) for j in range(1,4)]\n",
    "print(list4)\n",
    "\n",
    "#5 .solution\n",
    "list5 = [[i + j for j in range(0,4)] for i in range(2,6)]\n",
    "print(list5)\n",
    "\n",
    "#6.solution\n",
    "\n",
    "list6 = [(i,j) for j in range(1,4) for i in range(1,4)]\n",
    "print(list6)"
   ]
  },
  {
   "cell_type": "markdown",
   "metadata": {},
   "source": [
    "### problem 3"
   ]
  },
  {
   "cell_type": "markdown",
   "metadata": {},
   "source": [
    "#### implement a function longestWord() that takes a list of words and returns the longest one. "
   ]
  },
  {
   "cell_type": "code",
   "execution_count": 30,
   "metadata": {},
   "outputs": [
    {
     "name": "stdout",
     "output_type": "stream",
     "text": [
      "enter your strings::hii my name is sachin\n",
      "longest word is:: sachin\n"
     ]
    }
   ],
   "source": [
    "# function for finding longest word form a input list of strings\n",
    "def longestWord():\n",
    "    In_list = list(map(lambda x: x,input(\"enter your strings::\").split()))\n",
    "    length_list = []\n",
    "    for i in In_list:\n",
    "        length_list.append(len(i))\n",
    "    longWordIndex =  length_list.index(max(length_list))\n",
    "    print(\"longest word is:: \"+ In_list[longWordIndex] )\n",
    "    \n",
    "# sample case for showing output of above function\n",
    "longestWord()\n",
    "   \n",
    "    "
   ]
  },
  {
   "cell_type": "markdown",
   "metadata": {},
   "source": [
    "# Task 2\n",
    "### problem 1.1\n",
    "#### write a python program(with class concepts) to find the area of triangle using the below formula  \n",
    "#### area = (s*(s-a)*(s-b)*(s-c))**0.5    \n",
    "#### function to take the length of the sides of triange from user should be defined in the parent class and function to calculate the area should be defined subclass.\n"
   ]
  },
  {
   "cell_type": "code",
   "execution_count": 28,
   "metadata": {},
   "outputs": [],
   "source": [
    "class Triangle:\n",
    "    def __init__(self,s,a,b,c):\n",
    "        self.s = s;\n",
    "        self.a = a;\n",
    "        self.b = b;\n",
    "        self.c = c;\n",
    "    \n",
    "class triangleArea(Triangle):\n",
    "    def __init__(self,*args):\n",
    "        super(triangleArea,self).__init__(*args)\n",
    "        \n",
    "    def area(self):\n",
    "        area = (self.s*(self.s-self.a)*(self.s-self.b)*(self.s-self.c))**0.5  \n",
    "        return area\n",
    "    "
   ]
  },
  {
   "cell_type": "markdown",
   "metadata": {},
   "source": []
  },
  {
   "cell_type": "markdown",
   "metadata": {},
   "source": [
    "\n",
    "### problem 1.2\n",
    "#### write a function filter_long_word() that takes a list of words and a integer n and returns the list of words that is larger than n."
   ]
  },
  {
   "cell_type": "code",
   "execution_count": 45,
   "metadata": {},
   "outputs": [
    {
     "name": "stdout",
     "output_type": "stream",
     "text": [
      "enter your wordspython java c++ programming languages \n",
      "enter number3\n"
     ]
    },
    {
     "data": {
      "text/plain": [
       "['python', 'java', 'programming', 'languages']"
      ]
     },
     "execution_count": 45,
     "metadata": {},
     "output_type": "execute_result"
    }
   ],
   "source": [
    "# function to take a list of word and a number n and returns the list of word that is larger than n\n",
    "def filter_long_word():\n",
    "    finalList = []\n",
    "    wordList =list(map(lambda x: x,input(\"enter your words\").split()))\n",
    "    num = int(input(\"enter number\"))\n",
    "    for i in wordList:\n",
    "        if num < len(i):\n",
    "            finalList.append(i)\n",
    "    return finalList\n",
    "\n",
    "\n",
    "# sample code for testing the functionalty of filter_long_word()\n",
    "filter_long_word()\n",
    "    "
   ]
  },
  {
   "cell_type": "markdown",
   "metadata": {},
   "source": [
    "### problem 2.1\n",
    "#### write a python program using functions concepts that would map list of words into a list of integers representing the lengths of the corresponding words\n",
    "   ##### Hint :: if a list [ab ,cde, erty ] is passed to that function then output should come as [2 ,3 ,4]    , where 2 ,3,4 are the lengths of the words in the list "
   ]
  },
  {
   "cell_type": "code",
   "execution_count": 8,
   "metadata": {},
   "outputs": [
    {
     "data": {
      "text/plain": [
       "[3, 5]"
      ]
     },
     "execution_count": 8,
     "metadata": {},
     "output_type": "execute_result"
    }
   ],
   "source": [
    "# function to convert a list of words into a list that contain a length of corresponding words \n",
    "def convertList(list=[]):\n",
    "    list2=[]\n",
    "    for i in list:\n",
    "        list2.append(len(i))\n",
    "    return list2\n",
    "\n",
    "\n",
    "# sample code to illustrte above function                      \n",
    "l = ['abc' ,'dljff']\n",
    "convertList(l)"
   ]
  },
  {
   "cell_type": "markdown",
   "metadata": {},
   "source": [
    "### problem 2.2\n",
    "#### write a python function that takes a character(i.e. a string of lenght 1) and returns true if it is vowel and false otherwise."
   ]
  },
  {
   "cell_type": "code",
   "execution_count": 48,
   "metadata": {},
   "outputs": [
    {
     "data": {
      "text/plain": [
       "False"
      ]
     },
     "execution_count": 48,
     "metadata": {},
     "output_type": "execute_result"
    }
   ],
   "source": [
    "# function to check is a given string of length 1 is vowel or not , if it is vowel then return true otherwise return false\n",
    "def isVowel(string):\n",
    "    if len(string) != 1 or type(string) != str:\n",
    "        print('argument should be a string of only one length')\n",
    "    else:\n",
    "        vowel = [\"a\" ,\"e\", \"i\" ,\"o\", \"u\", \"A\", \"E\", \"I\", \"O\", \"U\"]\n",
    "        sIndex = vowel.count(string)\n",
    "        if sIndex == 1:\n",
    "            return True\n",
    "        else:\n",
    "            return False\n",
    "        \n",
    "# sample code to illustrate above function \n",
    "isVowel(\"r\")\n",
    "\n",
    "\n"
   ]
  }
 ],
 "metadata": {
  "kernelspec": {
   "display_name": "Python 3",
   "language": "python",
   "name": "python3"
  },
  "language_info": {
   "codemirror_mode": {
    "name": "ipython",
    "version": 3
   },
   "file_extension": ".py",
   "mimetype": "text/x-python",
   "name": "python",
   "nbconvert_exporter": "python",
   "pygments_lexer": "ipython3",
   "version": "3.7.4"
  }
 },
 "nbformat": 4,
 "nbformat_minor": 2
}
